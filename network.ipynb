{
  "nbformat": 4,
  "nbformat_minor": 0,
  "metadata": {
    "colab": {
      "provenance": []
    },
    "kernelspec": {
      "name": "python3",
      "display_name": "Python 3"
    },
    "language_info": {
      "name": "python"
    }
  },
  "cells": [
    {
      "cell_type": "code",
      "execution_count": 5,
      "metadata": {
        "colab": {
          "base_uri": "https://localhost:8080/"
        },
        "id": "-INBcAwa-j7p",
        "outputId": "429e7234-1616-4f97-f448-0b4a55e5508c"
      },
      "outputs": [
        {
          "output_type": "stream",
          "name": "stdout",
          "text": [
            "mid_v=0.5: 0.5\n",
            "mid_v=1.0: 0.5\n",
            "mid_v=1.5: 0.5\n"
          ]
        }
      ],
      "source": [
        "import numpy as np\n",
        "import matplotlib.pyplot as plt\n",
        "\n",
        "# Define sigmoidal utility function\n",
        "def sigmoid_utility(v, alpha, beta, mid_v):\n",
        "  \"\"\"\n",
        "  Calculates the sigmoid utility function.\n",
        "\n",
        "  Args:\n",
        "      v: The input value.\n",
        "      alpha: The steepness parameter.\n",
        "      beta: The curvature parameter.\n",
        "      mid_v: The midpoint parameter.\n",
        "\n",
        "  Returns:\n",
        "      The sigmoid utility value.\n",
        "  \"\"\"\n",
        "  return 1 / (1 + np.exp(-alpha * (v - mid_v) / beta))\n",
        "  # Set the parameters for the utility function\n",
        "alpha = 1\n",
        "beta = 1\n",
        "mid_v = [0.5, 1.0, 1.5]\n",
        "# Calculate the utility values for each configuration of mid_v\n",
        "utility_values = {}\n",
        "for i, v in enumerate(mid_v):\n",
        "  utility_values[f\"mid_v={v}\"] = sigmoid_utility(v, alpha, beta, v)\n",
        "  # Print the utility values\n",
        "for key, value in utility_values.items():\n",
        "  print(f\"{key}: {value}\")\n"
      ]
    }
  ]
}