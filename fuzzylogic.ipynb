{
  "nbformat": 4,
  "nbformat_minor": 0,
  "metadata": {
    "colab": {
      "provenance": []
    },
    "kernelspec": {
      "name": "python3",
      "display_name": "Python 3"
    },
    "language_info": {
      "name": "python"
    }
  },
  "cells": [
    {
      "cell_type": "code",
      "execution_count": 8,
      "metadata": {
        "colab": {
          "base_uri": "https://localhost:8080/"
        },
        "id": "7ssGK0GjFjG4",
        "outputId": "849d3d1c-6506-4984-a776-9356012b7718"
      },
      "outputs": [
        {
          "output_type": "stream",
          "name": "stdout",
          "text": [
            "Requirement already satisfied: scikit-fuzzy in /usr/local/lib/python3.10/dist-packages (0.4.2)\n",
            "Requirement already satisfied: numpy>=1.6.0 in /usr/local/lib/python3.10/dist-packages (from scikit-fuzzy) (1.25.2)\n",
            "Requirement already satisfied: scipy>=0.9.0 in /usr/local/lib/python3.10/dist-packages (from scikit-fuzzy) (1.11.4)\n",
            "Requirement already satisfied: networkx>=1.9.0 in /usr/local/lib/python3.10/dist-packages (from scikit-fuzzy) (3.3)\n",
            "Selected network: WiFi\n"
          ]
        }
      ],
      "source": [
        "import numpy as np\n",
        "!pip install scikit-fuzzy\n",
        "import skfuzzy as fuzz\n",
        "from skfuzzy import control as ctrl\n",
        "\n",
        "# Define fuzzy input variables (network attributes)\n",
        "bandwidth = ctrl.Antecedent(np.arange(0, 101, 1), 'bandwidth')\n",
        "price = ctrl.Antecedent(np.arange(0, 101, 1), 'price')\n",
        "cell_radius = ctrl.Antecedent(np.arange(0, 101, 1), 'cell_radius')\n",
        "security = ctrl.Antecedent(np.arange(0, 101, 1), 'security')\n",
        "power_consumption = ctrl.Antecedent(np.arange(0, 101, 1), 'power_consumption')\n",
        "traffic = ctrl.Antecedent(np.arange(0, 101, 1), 'traffic')\n",
        "\n",
        "# Define fuzzy input membership functions (triangular membership functions)\n",
        "bandwidth['low'] = fuzz.trimf(bandwidth.universe, [0, 0, 50])\n",
        "bandwidth['medium'] = fuzz.trimf(bandwidth.universe, [20, 50, 80])\n",
        "bandwidth['high'] = fuzz.trimf(bandwidth.universe, [50, 100, 100])\n",
        "\n",
        "price['low'] = fuzz.trimf(price.universe, [0, 0, 50])\n",
        "price['medium'] = fuzz.trimf(price.universe, [20, 50, 80])\n",
        "price['high'] = fuzz.trimf(price.universe, [50, 100, 100])\n",
        "\n",
        "cell_radius['small'] = fuzz.trimf(cell_radius.universe, [0, 0, 50])\n",
        "cell_radius['medium'] = fuzz.trimf(cell_radius.universe, [20, 50, 80])\n",
        "cell_radius['large'] = fuzz.trimf(cell_radius.universe, [50, 100, 100])\n",
        "\n",
        "security['low'] = fuzz.trimf(security.universe, [0, 0, 50])\n",
        "security['medium'] = fuzz.trimf(security.universe, [20, 50, 80])\n",
        "security['high'] = fuzz.trimf(security.universe, [50, 100, 100])\n",
        "\n",
        "power_consumption['low'] = fuzz.trimf(power_consumption.universe, [0, 0, 50])\n",
        "power_consumption['medium'] = fuzz.trimf(power_consumption.universe, [20, 50, 80])\n",
        "power_consumption['high'] = fuzz.trimf(power_consumption.universe, [50, 100, 100])\n",
        "\n",
        "traffic['low'] = fuzz.trimf(traffic.universe, [0, 0, 50])\n",
        "traffic['medium'] = fuzz.trimf(traffic.universe, [20, 50, 80])\n",
        "traffic['high'] = fuzz.trimf(traffic.universe, [50, 100, 100])\n",
        "\n",
        "# Define fuzzy output variable (network quality)\n",
        "quality = ctrl.Consequent(np.arange(0, 101, 1), 'quality')\n",
        "quality['poor'] = fuzz.trimf(quality.universe, [0, 0, 50])\n",
        "quality['average'] = fuzz.trimf(quality.universe, [20, 50, 80])\n",
        "quality['good'] = fuzz.trimf(quality.universe, [50, 100, 100])\n",
        "\n",
        "# Define fuzzy rules for network selection based on user preferences\n",
        "rule1 = ctrl.Rule(bandwidth['high'] | security['high'], quality['good'])\n",
        "rule2 = ctrl.Rule(price['low'] & cell_radius['large'], quality['good'])\n",
        "rule3 = ctrl.Rule(traffic['high'] | power_consumption['low'], quality['good'])\n",
        "rule4 = ctrl.Rule(bandwidth['low'] | price['high'] | security['low'], quality['poor'])\n",
        "\n",
        "# Create fuzzy control system\n",
        "network_ctrl = ctrl.ControlSystem([rule1, rule2, rule3, rule4])\n",
        "network_quality = ctrl.ControlSystemSimulation(network_ctrl)\n",
        "\n",
        "# Define function to perform network selection using fuzzy logic\n",
        "def select_network(attributes):\n",
        "    # Input network attributes into the fuzzy control system\n",
        "    network_quality.input['bandwidth'] = attributes['bandwidth']\n",
        "    network_quality.input['price'] = attributes['price']\n",
        "    network_quality.input['cell_radius'] = attributes['cell_radius']\n",
        "    network_quality.input['security'] = attributes['security']\n",
        "    network_quality.input['power_consumption'] = attributes['power_consumption']\n",
        "    network_quality.input['traffic'] = attributes['traffic']\n",
        "\n",
        "    # Compute network quality using the fuzzy control system\n",
        "    network_quality.compute()\n",
        "\n",
        "    # Get the computed network quality score\n",
        "    network_quality_score = network_quality.output['quality']\n",
        "\n",
        "    # Determine the selected network based on quality score\n",
        "    if network_quality_score <= 50:\n",
        "        return \"WLAN\"\n",
        "    elif network_quality_score <= 80:\n",
        "        return \"LTE\"\n",
        "    else:\n",
        "        return \"WiFi\"\n",
        "\n",
        "# Example usage:\n",
        "if __name__ == \"__main__\":\n",
        "    # Define network attributes for a specific network\n",
        "    network_attributes = {\n",
        "        'bandwidth': 80,\n",
        "        'price': 30,\n",
        "        'cell_radius': 70,\n",
        "        'security': 60,\n",
        "        'power_consumption': 40,\n",
        "        'traffic': 50\n",
        "    }\n",
        "\n",
        "    # Perform network selection using fuzzy logic\n",
        "    selected_network = select_network(network_attributes)\n",
        "\n",
        "    # Print selected network\n",
        "    print(f\"Selected network: {selected_network}\")\n"
      ]
    }
  ]
}