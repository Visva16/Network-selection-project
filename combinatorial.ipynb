{
  "nbformat": 4,
  "nbformat_minor": 0,
  "metadata": {
    "colab": {
      "provenance": []
    },
    "kernelspec": {
      "name": "python3",
      "display_name": "Python 3"
    },
    "language_info": {
      "name": "python"
    }
  },
  "cells": [
    {
      "cell_type": "code",
      "execution_count": 1,
      "metadata": {
        "colab": {
          "base_uri": "https://localhost:8080/"
        },
        "id": "5KuRBjRTIoM4",
        "outputId": "3cef3e9e-589d-42ba-bc22-19db8c56488c"
      },
      "outputs": [
        {
          "output_type": "stream",
          "name": "stdout",
          "text": [
            "Selected networks:\n",
            "WLAN\n",
            "WWAN\n"
          ]
        }
      ],
      "source": [
        "import itertools\n",
        "\n",
        "# Define network types and their attributes\n",
        "networks = {\n",
        "    'WLAN': {'bandwidth': 80, 'price': 30, 'cell_radius': 70, 'security': 60, 'power_consumption': 40, 'traffic': 50},\n",
        "    'WWAN': {'bandwidth': 90, 'price': 50, 'cell_radius': 60, 'security': 80, 'power_consumption': 30, 'traffic': 70},\n",
        "    'WMAN': {'bandwidth': 100, 'price': 70, 'cell_radius': 80, 'security': 90, 'power_consumption': 20, 'traffic': 90}\n",
        "}\n",
        "\n",
        "# Define user needs and preferences (applications and priorities)\n",
        "user_needs = {\n",
        "    'conversational': {'money': True, 'quality': True, 'battery': False, 'mobility': True},\n",
        "    'streaming': {'money': True, 'quality': True, 'battery': False, 'mobility': True},\n",
        "    'interactive': {'money': False, 'quality': True, 'battery': True, 'mobility': True},\n",
        "    'background': {'money': True, 'quality': False, 'battery': True, 'mobility': False}\n",
        "}\n",
        "\n",
        "# Define function to calculate utility score for a network combination based on user needs\n",
        "def calculate_utility(network_combination, user_need):\n",
        "    total_utility = 0\n",
        "    for network_type, is_selected in zip(network_combination, user_need.values()):\n",
        "        if is_selected:\n",
        "            total_utility += networks[network_type]['bandwidth']\n",
        "            total_utility -= networks[network_type]['price']\n",
        "            total_utility += networks[network_type]['cell_radius']\n",
        "            total_utility += networks[network_type]['security']\n",
        "            total_utility -= networks[network_type]['power_consumption']\n",
        "            total_utility += networks[network_type]['traffic']\n",
        "    return total_utility\n",
        "\n",
        "# Define function to perform network selection using combinatorial logic\n",
        "def select_network(user_application):\n",
        "    best_network_combination = None\n",
        "    max_utility = float('-inf')\n",
        "\n",
        "    # Generate all possible combinations of networks based on user application\n",
        "    possible_network_combinations = list(itertools.product(networks.keys(), repeat=len(user_application)))\n",
        "\n",
        "    # Evaluate each network combination and select the one with the highest utility score\n",
        "    for network_combination in possible_network_combinations:\n",
        "        utility_score = calculate_utility(network_combination, user_application)\n",
        "        if utility_score > max_utility:\n",
        "            max_utility = utility_score\n",
        "            best_network_combination = network_combination\n",
        "\n",
        "    return best_network_combination\n",
        "\n",
        "# Example usage:\n",
        "if __name__ == \"__main__\":\n",
        "    # Define user application (e.g., streaming, interactive, background)\n",
        "    user_application = user_needs['streaming']  # Choose the user need here\n",
        "\n",
        "    # Perform network selection using combinatorial logic\n",
        "    selected_networks = select_network(user_application)\n",
        "\n",
        "    # Map selected network combination to network types\n",
        "    selected_network_types = [network_type for network_type, is_selected in zip(networks.keys(), user_application.values()) if is_selected]\n",
        "\n",
        "    # Print the selected network types based on the combination\n",
        "    print(\"Selected networks:\")\n",
        "    for network_type in selected_network_types:\n",
        "        print(network_type)\n"
      ]
    }
  ]
}