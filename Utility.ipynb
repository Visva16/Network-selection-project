{
  "nbformat": 4,
  "nbformat_minor": 0,
  "metadata": {
    "colab": {
      "provenance": []
    },
    "kernelspec": {
      "name": "python3",
      "display_name": "Python 3"
    },
    "language_info": {
      "name": "python"
    }
  },
  "cells": [
    {
      "cell_type": "code",
      "execution_count": 1,
      "metadata": {
        "colab": {
          "base_uri": "https://localhost:8080/"
        },
        "id": "fIa7-gwrFnRu",
        "outputId": "22ce82f4-8b40-4107-da24-1c5dc0424f01"
      },
      "outputs": [
        {
          "output_type": "stream",
          "name": "stdout",
          "text": [
            "User 1 (Conversational): Best network is 5G\n",
            "User 2 (Streaming): Best network is 5G\n",
            "User 3 (Interactive): Best network is 5G\n"
          ]
        }
      ],
      "source": [
        "class User:\n",
        "    def __init__(self, user_id, application, preferences):\n",
        "        self.user_id = user_id\n",
        "        self.application = application\n",
        "        self.preferences = preferences\n",
        "\n",
        "class Network:\n",
        "    def __init__(self, name, throughput, latency, cost):\n",
        "        self.name = name\n",
        "        self.throughput = throughput\n",
        "        self.latency = latency\n",
        "        self.cost = cost\n",
        "\n",
        "def calculate_utility(user, network):\n",
        "    # Calculate utility score based on user preferences and network attributes\n",
        "    utility = 0\n",
        "\n",
        "    if user.application == 'Conversational':\n",
        "        if 'Money first' in user.preferences:\n",
        "            utility += 0.5 * network.throughput + 0.3 * network.latency - 0.2 * network.cost\n",
        "        elif 'Quality first' in user.preferences:\n",
        "            utility += 0.7 * network.throughput + 0.2 * network.latency - 0.1 * network.cost\n",
        "    elif user.application == 'Streaming':\n",
        "        if 'Money first' in user.preferences:\n",
        "            utility += 0.4 * network.throughput + 0.1 * network.latency - 0.5 * network.cost\n",
        "        elif 'Quality first' in user.preferences:\n",
        "            utility += 0.8 * network.throughput + 0.2 * network.latency - 0.3 * network.cost\n",
        "    elif user.application == 'Interactive':\n",
        "        if 'Battery first' in user.preferences:\n",
        "            utility += 0.6 * network.throughput + 0.3 * network.latency - 0.4 * network.cost\n",
        "        elif 'Mobility first' in user.preferences:\n",
        "            utility += 0.7 * network.throughput + 0.2 * network.latency - 0.3 * network.cost\n",
        "    elif user.application == 'Background':\n",
        "        utility += 0.3 * network.throughput + 0.4 * network.latency - 0.1 * network.cost\n",
        "\n",
        "    return utility\n",
        "\n",
        "def select_best_network(user, networks):\n",
        "    # Select the network with the highest utility score based on user requirements\n",
        "    best_network = None\n",
        "    max_utility = float('-inf')  # Initialize to a very low value\n",
        "\n",
        "    for network in networks:\n",
        "        utility = calculate_utility(user, network)\n",
        "        if utility > max_utility:\n",
        "            max_utility = utility\n",
        "            best_network = network\n",
        "\n",
        "    return best_network\n",
        "\n",
        "# Example usage:\n",
        "if __name__ == \"__main__\":\n",
        "    # Define users with their respective applications and preferences\n",
        "    users = [\n",
        "        User(1, 'Conversational', ['Money first']),\n",
        "        User(2, 'Streaming', ['Quality first']),\n",
        "        User(3, 'Interactive', ['Battery first']),\n",
        "        # Add more users with their applications and preferences...\n",
        "    ]\n",
        "\n",
        "    # Create network instances with simulated attributes\n",
        "    networks = [\n",
        "        Network(\"WiFi\", throughput=100, latency=20, cost=30),\n",
        "        Network(\"LTE\", throughput=200, latency=30, cost=50),\n",
        "        Network(\"5G\", throughput=300, latency=10, cost=70)\n",
        "    ]\n",
        "\n",
        "    # Select the best network for each user\n",
        "    for user in users:\n",
        "        best_network = select_best_network(user, networks)\n",
        "        if best_network:\n",
        "            print(f\"User {user.user_id} ({user.application}): Best network is {best_network.name}\")\n",
        "        else:\n",
        "            print(f\"User {user.user_id} ({user.application}): No network selected\")\n"
      ]
    }
  ]
}